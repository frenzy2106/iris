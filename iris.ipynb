Jupyter NotebookLogout Iris Dataset Last Checkpoint: 8 minutes ago (autosaved) Python 3
Python 3 Trusted
File
Edit
View
Insert
Cell
Kernel
Widgets
Help

In [1]:

%matplotlib inline
import pandas as pd
import numpy as np
import os
import seaborn as sns
import matplotlib.pyplot as plt
from matplotlib.colors import ListedColormap
import plotly.offline as py
py.init_notebook_mode(connected=True)
import plotly.graph_objs as go
from plotly import tools
​
from sklearn.preprocessing import StandardScaler
from sklearn.svm import SVC
from sklearn.cross_validation import train_test_split
from sklearn.preprocessing import StandardScaler
from sklearn.datasets import make_moons, make_circles, make_classification, make_blobs, make_checkerboard
from sklearn.neighbors import KNeighborsClassifier
from sklearn.cluster import KMeans
from sklearn.svm import SVC
from sklearn.tree import DecisionTreeClassifier
from sklearn.ensemble import RandomForestClassifier, AdaBoostClassifier, ExtraTreesClassifier, GradientBoostingClassifier, BaggingClassifier
from sklearn.naive_bayes import GaussianNB
from sklearn.linear_model import LogisticRegression
​
​
C:\Users\ankit\Anaconda3\lib\site-packages\sklearn\cross_validation.py:44: DeprecationWarning:

This module was deprecated in version 0.18 in favor of the model_selection module into which all the refactored classes and functions are moved. Also note that the interface of the new CV iterators are different from that of this module. This module will be removed in 0.20.

In [2]:

iris = pd.read_csv('C:/Users/ankit/Desktop/Pyprojects/iris-species/Iris.csv')
In [3]:

iris.head()
Out[3]:
Id	SepalLengthCm	SepalWidthCm	PetalLengthCm	PetalWidthCm	Species
0	1	5.1	3.5	1.4	0.2	Iris-setosa
1	2	4.9	3.0	1.4	0.2	Iris-setosa
2	3	4.7	3.2	1.3	0.2	Iris-setosa
3	4	4.6	3.1	1.5	0.2	Iris-setosa
4	5	5.0	3.6	1.4	0.2	Iris-setosa
In [4]:

iris.describe()
Out[4]:
Id	SepalLengthCm	SepalWidthCm	PetalLengthCm	PetalWidthCm
count	150.000000	150.000000	150.000000	150.000000	150.000000
mean	75.500000	5.843333	3.054000	3.758667	1.198667
std	43.445368	0.828066	0.433594	1.764420	0.763161
min	1.000000	4.300000	2.000000	1.000000	0.100000
25%	38.250000	5.100000	2.800000	1.600000	0.300000
50%	75.500000	5.800000	3.000000	4.350000	1.300000
75%	112.750000	6.400000	3.300000	5.100000	1.800000
max	150.000000	7.900000	4.400000	6.900000	2.500000
In [5]:

pd.DataFrame(iris.loc[:,'SepalLengthCm':'PetalWidthCm'].apply(np.median, axis = 0),columns=['Median'])
Out[5]:
Median
SepalLengthCm	5.80
SepalWidthCm	3.00
PetalLengthCm	4.35
PetalWidthCm	1.30
In [6]:

a = {}
for i in list(iris.iloc[:,1:5].columns):
    a[str(i)] = iris[i].groupby(iris['Species']).describe()
In [7]:

a['SepalLengthCm']
Out[7]:
count	mean	std	min	25%	50%	75%	max
Species								
Iris-setosa	50.0	5.006	0.352490	4.3	4.800	5.0	5.2	5.8
Iris-versicolor	50.0	5.936	0.516171	4.9	5.600	5.9	6.3	7.0
Iris-virginica	50.0	6.588	0.635880	4.9	6.225	6.5	6.9	7.9
In [8]:

iris.iloc[:,1:5].groupby(iris['Species']).sum()
Out[8]:
SepalLengthCm	SepalWidthCm	PetalLengthCm	PetalWidthCm
Species				
Iris-setosa	250.3	170.9	73.2	12.2
Iris-versicolor	296.8	138.5	213.0	66.3
Iris-virginica	329.4	148.7	277.6	101.3
In [9]:

iris.loc[iris['SepalLengthCm'].isin([6.1,5.4])]
Out[9]:
Id	SepalLengthCm	SepalWidthCm	PetalLengthCm	PetalWidthCm	Species
5	6	5.4	3.9	1.7	0.4	Iris-setosa
10	11	5.4	3.7	1.5	0.2	Iris-setosa
16	17	5.4	3.9	1.3	0.4	Iris-setosa
20	21	5.4	3.4	1.7	0.2	Iris-setosa
31	32	5.4	3.4	1.5	0.4	Iris-setosa
63	64	6.1	2.9	4.7	1.4	Iris-versicolor
71	72	6.1	2.8	4.0	1.3	Iris-versicolor
73	74	6.1	2.8	4.7	1.2	Iris-versicolor
84	85	5.4	3.0	4.5	1.5	Iris-versicolor
91	92	6.1	3.0	4.6	1.4	Iris-versicolor
127	128	6.1	3.0	4.9	1.8	Iris-virginica
134	135	6.1	2.6	5.6	1.4	Iris-virginica
In [10]:

PetalLengthCm
iris['new_col'] = iris['SepalLengthCm']/iris['PetalLengthCm']
In [11]:

iris.drop('new_col', axis = 1, inplace=True)
In [12]:

)
 iris2 = pd.DataFrame(pd.concat([pd.DataFrame(iris['Id']), pd.DataFrame(np.random.randn(150))], axis = 1))
In [13]:

iris2.columns = ['Id', 'Score']
iris2.sort_values(['Score'], ascending=[1])
Out[13]:
Id	Score
11	12	-3.142438
123	124	-2.116716
56	57	-1.942152
103	104	-1.858274
30	31	-1.714006
8	9	-1.696593
9	10	-1.677474
2	3	-1.648611
48	49	-1.627777
22	23	-1.601782
66	67	-1.516633
28	29	-1.497238
92	93	-1.481000
136	137	-1.375934
57	58	-1.234796
95	96	-1.215275
21	22	-1.187398
83	84	-1.160174
27	28	-1.159609
79	80	-1.159402
114	115	-1.114331
130	131	-1.076846
14	15	-1.076753
124	125	-1.052884
29	30	-1.030876
109	110	-1.030182
18	19	-1.022674
143	144	-1.009515
138	139	-0.988960
1	2	-0.895946
...	...	...
23	24	0.952867
84	85	0.954360
90	91	0.959888
131	132	1.031277
93	94	1.050659
101	102	1.053148
106	107	1.100022
10	11	1.118281
146	147	1.125304
75	76	1.155745
49	50	1.174532
107	108	1.176957
113	114	1.178041
17	18	1.193575
34	35	1.267923
73	74	1.282291
70	71	1.311379
61	62	1.317829
122	123	1.542262
128	129	1.543031
76	77	1.601952
33	34	1.672053
82	83	1.723072
110	111	1.724446
88	89	1.734195
96	97	1.792108
77	78	2.008517
4	5	2.320788
69	70	2.321556
38	39	2.530931
150 rows × 2 columns
In [14]:

')
pd.concat([iris,iris2], axis =1 , join = 'inner')
Out[14]:
Id	SepalLengthCm	SepalWidthCm	PetalLengthCm	PetalWidthCm	Species	Id	Score
0	1	5.1	3.5	1.4	0.2	Iris-setosa	1	0.548039
1	2	4.9	3.0	1.4	0.2	Iris-setosa	2	-0.895946
2	3	4.7	3.2	1.3	0.2	Iris-setosa	3	-1.648611
3	4	4.6	3.1	1.5	0.2	Iris-setosa	4	0.588157
4	5	5.0	3.6	1.4	0.2	Iris-setosa	5	2.320788
5	6	5.4	3.9	1.7	0.4	Iris-setosa	6	0.255783
6	7	4.6	3.4	1.4	0.3	Iris-setosa	7	-0.257705
7	8	5.0	3.4	1.5	0.2	Iris-setosa	8	0.793643
8	9	4.4	2.9	1.4	0.2	Iris-setosa	9	-1.696593
9	10	4.9	3.1	1.5	0.1	Iris-setosa	10	-1.677474
10	11	5.4	3.7	1.5	0.2	Iris-setosa	11	1.118281
11	12	4.8	3.4	1.6	0.2	Iris-setosa	12	-3.142438
12	13	4.8	3.0	1.4	0.1	Iris-setosa	13	0.420498
13	14	4.3	3.0	1.1	0.1	Iris-setosa	14	-0.500208
14	15	5.8	4.0	1.2	0.2	Iris-setosa	15	-1.076753
15	16	5.7	4.4	1.5	0.4	Iris-setosa	16	-0.082500
16	17	5.4	3.9	1.3	0.4	Iris-setosa	17	-0.880129
17	18	5.1	3.5	1.4	0.3	Iris-setosa	18	1.193575
18	19	5.7	3.8	1.7	0.3	Iris-setosa	19	-1.022674
19	20	5.1	3.8	1.5	0.3	Iris-setosa	20	0.163682
20	21	5.4	3.4	1.7	0.2	Iris-setosa	21	0.886952
21	22	5.1	3.7	1.5	0.4	Iris-setosa	22	-1.187398
22	23	4.6	3.6	1.0	0.2	Iris-setosa	23	-1.601782
23	24	5.1	3.3	1.7	0.5	Iris-setosa	24	0.952867
24	25	4.8	3.4	1.9	0.2	Iris-setosa	25	-0.801216
25	26	5.0	3.0	1.6	0.2	Iris-setosa	26	-0.707070
26	27	5.0	3.4	1.6	0.4	Iris-setosa	27	0.866318
27	28	5.2	3.5	1.5	0.2	Iris-setosa	28	-1.159609
28	29	5.2	3.4	1.4	0.2	Iris-setosa	29	-1.497238
29	30	4.7	3.2	1.6	0.2	Iris-setosa	30	-1.030876
...	...	...	...	...	...	...	...	...
120	121	6.9	3.2	5.7	2.3	Iris-virginica	121	-0.299673
121	122	5.6	2.8	4.9	2.0	Iris-virginica	122	-0.548909
122	123	7.7	2.8	6.7	2.0	Iris-virginica	123	1.542262
123	124	6.3	2.7	4.9	1.8	Iris-virginica	124	-2.116716
124	125	6.7	3.3	5.7	2.1	Iris-virginica	125	-1.052884
125	126	7.2	3.2	6.0	1.8	Iris-virginica	126	-0.723084
126	127	6.2	2.8	4.8	1.8	Iris-virginica	127	0.706629
127	128	6.1	3.0	4.9	1.8	Iris-virginica	128	0.346709
128	129	6.4	2.8	5.6	2.1	Iris-virginica	129	1.543031
129	130	7.2	3.0	5.8	1.6	Iris-virginica	130	0.645195
130	131	7.4	2.8	6.1	1.9	Iris-virginica	131	-1.076846
131	132	7.9	3.8	6.4	2.0	Iris-virginica	132	1.031277
132	133	6.4	2.8	5.6	2.2	Iris-virginica	133	-0.385481
133	134	6.3	2.8	5.1	1.5	Iris-virginica	134	-0.421010
134	135	6.1	2.6	5.6	1.4	Iris-virginica	135	-0.352717
135	136	7.7	3.0	6.1	2.3	Iris-virginica	136	-0.100367
136	137	6.3	3.4	5.6	2.4	Iris-virginica	137	-1.375934
137	138	6.4	3.1	5.5	1.8	Iris-virginica	138	-0.635800
138	139	6.0	3.0	4.8	1.8	Iris-virginica	139	-0.988960
139	140	6.9	3.1	5.4	2.1	Iris-virginica	140	0.266214
140	141	6.7	3.1	5.6	2.4	Iris-virginica	141	-0.522037
141	142	6.9	3.1	5.1	2.3	Iris-virginica	142	-0.702923
142	143	5.8	2.7	5.1	1.9	Iris-virginica	143	-0.131014
143	144	6.8	3.2	5.9	2.3	Iris-virginica	144	-1.009515
144	145	6.7	3.3	5.7	2.5	Iris-virginica	145	0.180806
145	146	6.7	3.0	5.2	2.3	Iris-virginica	146	0.373768
146	147	6.3	2.5	5.0	1.9	Iris-virginica	147	1.125304
147	148	6.5	3.0	5.2	2.0	Iris-virginica	148	0.560913
148	149	6.2	3.4	5.4	2.3	Iris-virginica	149	-0.466697
149	150	5.9	3.0	5.1	1.8	Iris-virginica	150	0.187109
150 rows × 8 columns
In [15]:

s
iris['Species'].value_counts()
Out[15]:
Iris-setosa        50
Iris-virginica     50
Iris-versicolor    50
Name: Species, dtype: int64
In [16]:

​
iris.plot(kind = 'scatter', x = 'SepalLengthCm', y = 'PetalLengthCm')
Out[16]:
<matplotlib.axes._subplots.AxesSubplot at 0x284181c47f0>

In [17]:

SepalWidthCm
sns.jointplot(x = 'SepalLengthCm', y = 'SepalWidthCm', data = iris, size = 5)
Out[17]:
<seaborn.axisgrid.JointGrid at 0x284186292e8>

In [18]:

4
sns.FacetGrid(iris, hue = 'Species', size = 4) \
    .map(plt.scatter, 'SepalLengthCm', 'SepalWidthCm') \
    .add_legend
Out[18]:
<bound method Grid.add_legend of <seaborn.axisgrid.FacetGrid object at 0x000002841863BCF8>>

In [19]:

gray
sns.boxplot(x = 'Species', y = 'PetalLengthCm', data=iris)
sns.stripplot(x = 'Species', y = 'PetalLengthCm', data = iris, jitter = True, edgecolor='gray')
Out[19]:
<matplotlib.axes._subplots.AxesSubplot at 0x284188c7c88>

In [20]:

data = 
sns.violinplot(x = 'Species', y = 'SepalLengthCm', data = iris, size = 6)
Out[20]:
<matplotlib.axes._subplots.AxesSubplot at 0x28418a3b9b0>

In [21]:

sns.FacetGrid(iris, hue = 'Species', size = 6) \
    .map(sns.kdeplot, "PetalLengthCm") \
    .add_legend()
Out[21]:
<seaborn.axisgrid.FacetGrid at 0x28418ae4f60>

In [22]:

sns.pairplot(iris.drop('Id', axis = 1), hue = 'Species', size = 3)
sns.pairplot(iris.drop('Id', axis = 1), hue = 'Species', size = 3)
Out[22]:
<seaborn.axisgrid.PairGrid at 0x28418868898>

In [23]:

kde
sns.pairplot(iris.drop('Id', axis = 1), hue = 'Species', size = 3, diag_kind='kde')
Out[23]:
<seaborn.axisgrid.PairGrid at 0x28418a682e8>

In [24]:

,
iris.drop('Id',axis = 1).boxplot(by = "Species",figsize = (12,6))
Out[24]:
array([[<matplotlib.axes._subplots.AxesSubplot object at 0x000002841BC6D390>,
        <matplotlib.axes._subplots.AxesSubplot object at 0x000002841C751C88>],
       [<matplotlib.axes._subplots.AxesSubplot object at 0x000002841C767C50>,
        <matplotlib.axes._subplots.AxesSubplot object at 0x000002841C821AC8>]], dtype=object)

In [25]:

target_map = {'Iris-setosa':0, 'Iris-versicolor':1, 'Iris-virginica':2}
iris['Species'] = iris['Species'].apply(lambda x: target_map[x])
In [28]:

s
iris
Out[28]:
Id	SepalLengthCm	SepalWidthCm	PetalLengthCm	PetalWidthCm	Species
0	1	5.1	3.5	1.4	0.2	0
1	2	4.9	3.0	1.4	0.2	0
2	3	4.7	3.2	1.3	0.2	0
3	4	4.6	3.1	1.5	0.2	0
4	5	5.0	3.6	1.4	0.2	0
5	6	5.4	3.9	1.7	0.4	0
6	7	4.6	3.4	1.4	0.3	0
7	8	5.0	3.4	1.5	0.2	0
8	9	4.4	2.9	1.4	0.2	0
9	10	4.9	3.1	1.5	0.1	0
10	11	5.4	3.7	1.5	0.2	0
11	12	4.8	3.4	1.6	0.2	0
12	13	4.8	3.0	1.4	0.1	0
13	14	4.3	3.0	1.1	0.1	0
14	15	5.8	4.0	1.2	0.2	0
15	16	5.7	4.4	1.5	0.4	0
16	17	5.4	3.9	1.3	0.4	0
17	18	5.1	3.5	1.4	0.3	0
18	19	5.7	3.8	1.7	0.3	0
19	20	5.1	3.8	1.5	0.3	0
20	21	5.4	3.4	1.7	0.2	0
21	22	5.1	3.7	1.5	0.4	0
22	23	4.6	3.6	1.0	0.2	0
23	24	5.1	3.3	1.7	0.5	0
24	25	4.8	3.4	1.9	0.2	0
25	26	5.0	3.0	1.6	0.2	0
26	27	5.0	3.4	1.6	0.4	0
27	28	5.2	3.5	1.5	0.2	0
28	29	5.2	3.4	1.4	0.2	0
29	30	4.7	3.2	1.6	0.2	0
...	...	...	...	...	...	...
120	121	6.9	3.2	5.7	2.3	2
121	122	5.6	2.8	4.9	2.0	2
122	123	7.7	2.8	6.7	2.0	2
123	124	6.3	2.7	4.9	1.8	2
124	125	6.7	3.3	5.7	2.1	2
125	126	7.2	3.2	6.0	1.8	2
126	127	6.2	2.8	4.8	1.8	2
127	128	6.1	3.0	4.9	1.8	2
128	129	6.4	2.8	5.6	2.1	2
129	130	7.2	3.0	5.8	1.6	2
130	131	7.4	2.8	6.1	1.9	2
131	132	7.9	3.8	6.4	2.0	2
132	133	6.4	2.8	5.6	2.2	2
133	134	6.3	2.8	5.1	1.5	2
134	135	6.1	2.6	5.6	1.4	2
135	136	7.7	3.0	6.1	2.3	2
136	137	6.3	3.4	5.6	2.4	2
137	138	6.4	3.1	5.5	1.8	2
138	139	6.0	3.0	4.8	1.8	2
139	140	6.9	3.1	5.4	2.1	2
140	141	6.7	3.1	5.6	2.4	2
141	142	6.9	3.1	5.1	2.3	2
142	143	5.8	2.7	5.1	1.9	2
143	144	6.8	3.2	5.9	2.3	2
144	145	6.7	3.3	5.7	2.5	2
145	146	6.7	3.0	5.2	2.3	2
146	147	6.3	2.5	5.0	1.9	2
147	148	6.5	3.0	5.2	2.0	2
148	149	6.2	3.4	5.4	2.3	2
149	150	5.9	3.0	5.1	1.8	2
150 rows × 6 columns
In [39]:

4
X = iris.iloc[:, 2:4]
y = iris.Species
h = 0.02 # Step size in the mesh
X = StandardScaler().fit_transform(X)
trees = RandomForestClassifier(max_depth = 4, n_estimators=20, random_state=0)
trees.fit(X,y)
Out[39]:
RandomForestClassifier(bootstrap=True, class_weight=None, criterion='gini',
            max_depth=4, max_features='auto', max_leaf_nodes=None,
            min_impurity_split=1e-07, min_samples_leaf=1,
            min_samples_split=2, min_weight_fraction_leaf=0.0,
            n_estimators=20, n_jobs=1, oob_score=False, random_state=0,
            verbose=0, warm_start=False)
In [40]:

trees_overfit = RandomForestClassifier(max_depth = 50, n_estimators=5, random_state=0)
trees_overfit.fit(X, y)
Out[40]:
RandomForestClassifier(bootstrap=True, class_weight=None, criterion='gini',
            max_depth=50, max_features='auto', max_leaf_nodes=None,
            min_impurity_split=1e-07, min_samples_leaf=1,
            min_samples_split=2, min_weight_fraction_leaf=0.0,
            n_estimators=5, n_jobs=1, oob_score=False, random_state=0,
            verbose=0, warm_start=False)
In [41]:

1
x_min, x_max = X[:, 0].min() - 1, X[:, 0].max() + 1
y_min, y_max = X[:, 1].min() - 1, X[:, 1].max() + 1
​
xx, yy = np.meshgrid(np.arange(x_min, x_max, h)
                     , np.arange(y_min, y_max, h))
y_ = np.arange(y_min, y_max, h)
​
In [42]:

Z = trees.predict(np.c_[xx.ravel(), yy.ravel()])
Z = Z.reshape(xx.shape)
#Z = Z.reshape((xx.shape[0], xx.shape[1], 3))
​
fig = tools.make_subplots(rows=1, cols=2,
                          subplot_titles=("Random Forest (Depth = 4)",
                                          "Random Forest (Depth = 50)")
                         )
​
trace1 = go.Heatmap(x=xx[0], y=y_, z=Z,
                  colorscale='Viridis',
                  showscale=False)
​
trace2 = go.Scatter(x=X[:, 0], y=X[:, 1], 
                    mode='markers',
                    showlegend=False,
                    marker=dict(size=10,
                                color=y, 
                                colorscale='Viridis',
                                line=dict(color='black', width=1))
                    )
                  
fig.append_trace(trace1, 1, 1)
fig.append_trace(trace2, 1, 1)
​
# transform grid using ExtraTreesClassifier
# y_grid_pred = trees.predict_proba(np.c_[xx.ravel(), yy.ravel()])[:, 1]
​
Z = trees_overfit.predict(np.c_[xx.ravel(), yy.ravel()])
Z = Z.reshape(xx.shape)
​
​
trace3 = go.Heatmap(x=xx[0], y=y_, 
                    z=Z,
                    colorscale='Viridis',
                    showscale=True)
​
trace4 = go.Scatter(x=X[:, 0], y=X[:, 1],
                    mode='markers',
                    showlegend=False,
                    marker=dict(size=10,
                                color=y, 
                                colorscale='Viridis',
                                line=dict(color='black', width=1))
                   )
fig.append_trace(trace3, 1, 2)
fig.append_trace(trace4, 1, 2)
​
for i in map(str, range(1, 3)):
    x = 'xaxis' + i
    y = 'yaxis' + i
    fig['layout'][x].update(showgrid=False, zeroline=False,
                                   showticklabels=False, ticks='', autorange=True)
    fig['layout'][y].update(showgrid=False, zeroline=False,
                                   showticklabels=False, ticks='', autorange=True)
​
py.iplot(fig)
This is the format of your plot grid:
[ (1,1) x1,y1 ]  [ (1,2) x2,y2 ]

Export to plot.ly »
0
0.5
1
1.5
2
Random Forest (Depth = 4)
Random Forest (Depth = 50)
In [49]:

x
target_map = {0:'Iris-setosa', 1:'Iris-versicolor', 2: 'Iris-virginica'}
iris.Species = iris.Species.apply(lambda x: target_map[x])
In [50]:

sns.FacetGrid(iris, hue = 'Species', size = 6) \
    .map(plt.scatter, 'PetalLengthCm', 'PetalWidthCm') \
    .add_legend()
Out[50]:
<seaborn.axisgrid.FacetGrid at 0x2841dfa6278>

In [54]:

, inplace = True)
iris.drop('Id', axis = 1, inplace = True)
sns.heatmap(iris.corr(),annot=True,cmap='cubehelix_r')
Out[54]:
<matplotlib.axes._subplots.AxesSubplot at 0x2841e5145c0>

In [55]:

train, test = train_test_split(iris, test_size = 0.3)
In [56]:

print(train.shape)
(105, 5)
In [57]:

est
train_X = train[['SepalLengthCm', 'SepalWidthCm', 'PetalLengthCm', 'PetalWidthCm']]
test_X = test[['SepalLengthCm', 'SepalWidthCm', 'PetalLengthCm', 'PetalWidthCm']]
train_y = train.Species
test_y = test.Species
​
In [61]:

from sklearn import metrics
model = SVC()
model.fit(train_X, train_y)
prediction = model.predict(test_X)
print('The accuracy of the SVM is:', metrics.accuracy_score(prediction, test_y))
The accuracy of the SVM is: 0.977777777778
In [62]:

model = LogisticRegression()
model.fit(train_X,train_y)
prediction=model.predict(test_X)
print('The accuracy of the Logistic Regression is',metrics.accuracy_score(prediction,test_y))
The accuracy of the Logistic Regression is 0.844444444444
In [63]:

model=DecisionTreeClassifier()
model.fit(train_X,train_y)
prediction=model.predict(test_X)
print('The accuracy of the Decision Tree is',metrics.accuracy_score(prediction,test_y))
The accuracy of the Decision Tree is 1.0
In [64]:

model=KNeighborsClassifier(n_neighbors=3) #this examines 3 neighbours for putting the new data into a class
model.fit(train_X,train_y)
prediction=model.predict(test_X)
print('The accuracy of the KNN is',metrics.accuracy_score(prediction,test_y))
model=KNeighborsClassifier(n_neighbors=3) #this examines 3 neighbours for putting the new data into a class
model.fit(train_X,train_y)
prediction=model.predict(test_X)
print('The accuracy of the KNN is',metrics.accuracy_score(prediction,test_y))
The accuracy of the KNN is 0.977777777778
In [68]:

met = []
for i in range(1,11):
    model = KNeighborsClassifier(n_neighbors=i)
    model.fit(train_X, train_y)
    prediction = model.predict(test_X)
    met.append(metrics.accuracy_score(prediction, test_y))
​
In [69]:

met
met
Out[69]:
[0.97777777777777775,
 0.9555555555555556,
 0.97777777777777775,
 0.97777777777777775,
 0.97777777777777775,
 0.97777777777777775,
 0.97777777777777775,
 0.97777777777777775,
 0.97777777777777775,
 1.0]
In [ ]:

​
